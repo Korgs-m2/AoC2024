{
  "nbformat": 4,
  "nbformat_minor": 0,
  "metadata": {
    "colab": {
      "provenance": []
    },
    "kernelspec": {
      "name": "python3",
      "display_name": "Python 3"
    },
    "language_info": {
      "name": "python"
    }
  },
  "cells": [
    {
      "cell_type": "markdown",
      "source": [
        "#**PART ONE**"
      ],
      "metadata": {
        "id": "inffqAhEaBS8"
      }
    },
    {
      "cell_type": "code",
      "source": [
        "input_file_route = '/content/sample_data/input.txt'"
      ],
      "metadata": {
        "id": "ZQDPEpD4ayrM"
      },
      "execution_count": 10,
      "outputs": []
    },
    {
      "cell_type": "code",
      "execution_count": 11,
      "metadata": {
        "id": "3CMakllyZywW"
      },
      "outputs": [],
      "source": [
        "# Initialize the lists\n",
        "column1 = []\n",
        "column2 = []\n",
        "\n",
        "# Read the input.txt file\n",
        "with open(input_file_route, 'r') as file:\n",
        "    for line in file:\n",
        "        data = line.split()  # Split the line into two columns\n",
        "        column1.append(int(data[0]))  # Add to the first list\n",
        "        column2.append(int(data[1]))  # Add to the second list"
      ]
    },
    {
      "cell_type": "code",
      "source": [
        "# Sort the lists in ascending order\n",
        "column1.sort()\n",
        "column2.sort()"
      ],
      "metadata": {
        "id": "lWipjhGcaT-K"
      },
      "execution_count": 5,
      "outputs": []
    },
    {
      "cell_type": "code",
      "source": [
        "# Calculate the absolute difference for each pair of elements\n",
        "result = [abs(a - b) for a, b in zip(column1, column2)]"
      ],
      "metadata": {
        "id": "8JjNp693aVs0"
      },
      "execution_count": 12,
      "outputs": []
    },
    {
      "cell_type": "code",
      "source": [
        "# Sum the resulting list\n",
        "total = sum(result)"
      ],
      "metadata": {
        "id": "JkCHwL1EaqK1"
      },
      "execution_count": 13,
      "outputs": []
    },
    {
      "cell_type": "code",
      "source": [
        "total"
      ],
      "metadata": {
        "colab": {
          "base_uri": "https://localhost:8080/"
        },
        "id": "xXvUi2EVarRj",
        "outputId": "a2405fdf-3ad9-4784-cba2-fea3300647b9"
      },
      "execution_count": 14,
      "outputs": [
        {
          "output_type": "execute_result",
          "data": {
            "text/plain": [
              "29709735"
            ]
          },
          "metadata": {},
          "execution_count": 14
        }
      ]
    },
    {
      "cell_type": "markdown",
      "source": [
        "#**PART TWO**"
      ],
      "metadata": {
        "id": "OVkaz-WpbFZM"
      }
    },
    {
      "cell_type": "code",
      "source": [
        "input_file_route = '/content/sample_data/input.txt'"
      ],
      "metadata": {
        "id": "f9OreKShbBVs"
      },
      "execution_count": 16,
      "outputs": []
    },
    {
      "cell_type": "code",
      "source": [
        "# Initialize the lists\n",
        "column1 = []\n",
        "column2 = []\n",
        "\n",
        "# Read the input.txt file\n",
        "with open(input_file_route, 'r') as file:\n",
        "    for line in file:\n",
        "        data = line.split()  # Split the line into two columns\n",
        "        column1.append(int(data[0]))  # Add to the first list\n",
        "        column2.append(int(data[1]))  # Add to the second list"
      ],
      "metadata": {
        "id": "bDujkysDbKaj"
      },
      "execution_count": 17,
      "outputs": []
    },
    {
      "cell_type": "code",
      "source": [
        "# Count occurrences in column2 using dictionary comprehension\n",
        "counts = {number: column2.count(number) for number in set(column2)}"
      ],
      "metadata": {
        "id": "934en7SKbc3D"
      },
      "execution_count": 18,
      "outputs": []
    },
    {
      "cell_type": "code",
      "source": [
        "# Multiply each value in column1 by its count in the dictionary or 0 if not found\n",
        "result = sum(value * counts.get(value, 0) for value in column1)"
      ],
      "metadata": {
        "id": "xnfTrQNQbyMF"
      },
      "execution_count": 19,
      "outputs": []
    },
    {
      "cell_type": "code",
      "source": [
        "result"
      ],
      "metadata": {
        "colab": {
          "base_uri": "https://localhost:8080/"
        },
        "id": "Jk82TJJEbyDM",
        "outputId": "372e1fa2-34f7-4400-f15f-fe7c585cfd38"
      },
      "execution_count": 20,
      "outputs": [
        {
          "output_type": "execute_result",
          "data": {
            "text/plain": [
              "24643097"
            ]
          },
          "metadata": {},
          "execution_count": 20
        }
      ]
    }
  ]
}